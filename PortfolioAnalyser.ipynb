{
 "cells": [
  {
   "cell_type": "markdown",
   "metadata": {},
   "source": [
    "# PortfolioAnalyser overview"
   ]
  },
  {
   "cell_type": "markdown",
   "metadata": {},
   "source": [
    "PortfolioAnalyser is designed to run various portfolio analyses based on a discretionary stock portfolio. The outputs can be python-based, ideal for a Jupyter Notebook, or Excel-based.\n"
   ]
  },
  {
   "cell_type": "markdown",
   "metadata": {},
   "source": [
    "Constituents data can be registered through Inputs/portfolio.xlsx\n"
   ]
  },
  {
   "cell_type": "markdown",
   "metadata": {},
   "source": [
    "Further parameters, such as the date range considered, and the portfolio benchmark can be passed through the params input."
   ]
  },
  {
   "cell_type": "markdown",
   "metadata": {},
   "source": [
    "### Imports"
   ]
  },
  {
   "cell_type": "code",
   "execution_count": null,
   "metadata": {},
   "outputs": [],
   "source": [
    "import os as os\n",
    "from pathlib import Path\n",
    "import pandas as pd\n",
    "from Utils.Portfolio.Portfolio import PortfolioAnalysis"
   ]
  },
  {
   "cell_type": "markdown",
   "metadata": {},
   "source": [
    "### Create absolute paths for input and output folders to ensure stability"
   ]
  },
  {
   "cell_type": "code",
   "execution_count": null,
   "metadata": {},
   "outputs": [],
   "source": [
    "path_input = Path(os.path.join(os.getcwd(), \"Input\"))\n",
    "path_output = Path(os.path.join(os.getcwd(), \"Output\"))"
   ]
  },
  {
   "cell_type": "markdown",
   "metadata": {},
   "source": [
    "### Read portfolio constituents to df"
   ]
  },
  {
   "cell_type": "code",
   "execution_count": null,
   "metadata": {},
   "outputs": [],
   "source": [
    "df_portfolio = pd.read_excel(os.path.join(path_input, \"portfolio.xlsx\"), index_col=0)"
   ]
  },
  {
   "cell_type": "markdown",
   "metadata": {},
   "source": [
    "### Create base params for PortfolioAnalyser"
   ]
  },
  {
   "cell_type": "code",
   "execution_count": null,
   "metadata": {},
   "outputs": [],
   "source": [
    "base_params = {\n",
    "    \"start_date\": \"2023-01-01\",\n",
    "    \"end_date\": \"2023-12-01\",\n",
    "    \"benchmark\": \"^SPX\",\n",
    "    \"path_input\": path_input,\n",
    "    \"path_output\": path_output,\n",
    "}"
   ]
  },
  {
   "cell_type": "markdown",
   "metadata": {},
   "source": [
    "### Initialise PortfolioAnalyser"
   ]
  },
  {
   "cell_type": "code",
   "execution_count": null,
   "metadata": {},
   "outputs": [],
   "source": [
    "PortfolioAnalyser = PortfolioAnalysis(df_portfolio, base_params)"
   ]
  },
  {
   "cell_type": "markdown",
   "metadata": {},
   "source": [
    "### Run desired functions"
   ]
  },
  {
   "cell_type": "code",
   "execution_count": null,
   "metadata": {},
   "outputs": [],
   "source": [
    "PortfolioAnalyser.create_xlsx_output()"
   ]
  }
 ],
 "metadata": {
  "kernelspec": {
   "display_name": "hsgfcs",
   "language": "python",
   "name": "python3"
  },
  "language_info": {
   "codemirror_mode": {
    "name": "ipython",
    "version": 3
   },
   "file_extension": ".py",
   "mimetype": "text/x-python",
   "name": "python",
   "nbconvert_exporter": "python",
   "pygments_lexer": "ipython3",
   "version": "3.11.5"
  }
 },
 "nbformat": 4,
 "nbformat_minor": 2
}
